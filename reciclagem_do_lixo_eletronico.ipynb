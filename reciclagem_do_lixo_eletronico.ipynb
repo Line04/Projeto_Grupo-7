{
  "nbformat": 4,
  "nbformat_minor": 0,
  "metadata": {
    "colab": {
      "name": "reciclagem_do_lixo_eletronico.ipynb",
      "provenance": [],
      "collapsed_sections": [],
      "include_colab_link": true
    },
    "kernelspec": {
      "name": "python3",
      "display_name": "Python 3"
    }
  },
  "cells": [
    {
      "cell_type": "markdown",
      "metadata": {
        "id": "view-in-github",
        "colab_type": "text"
      },
      "source": [
        "<a href=\"https://colab.research.google.com/github/Line04/Projeto_Grupo-7/blob/master/reciclagem_do_lixo_eletronico.ipynb\" target=\"_parent\"><img src=\"https://colab.research.google.com/assets/colab-badge.svg\" alt=\"Open In Colab\"/></a>"
      ]
    },
    {
      "cell_type": "markdown",
      "metadata": {
        "id": "Z-QVtX48opa1",
        "colab_type": "text"
      },
      "source": [
        "**UNIVERSIDADE FEDERAL DO RIO GRANDE DO NORTE - UFRN**\n",
        "\n",
        "**INSTITUTO METRÓPOLE DIGITAL - IMD**\n",
        "\n",
        "CURSO DE EXTENSÃO: **INTRODUÇÃO A PROGRAMAÇÃO PYTHON**\n",
        "\n",
        "**PROJETO FINAL** \n",
        "\n",
        "ALUNOS:\n",
        "\n",
        "*   Fagner Felipe Dantas Domingos\n",
        "*   Felipe Antônio\n",
        "*   Felipe M. Aquino da Costa\n",
        "*   Jakeline C. da Silva\n",
        "\n",
        "\n",
        "---\n",
        "\n",
        "\n",
        "\n"
      ]
    },
    {
      "cell_type": "markdown",
      "metadata": {
        "id": "_tYRkG3EI4Uw",
        "colab_type": "text"
      },
      "source": [
        "# **TEMA: Abordagem sobre a taxa de reciclagem do lixo eletrônico**\n",
        "\n",
        "\n",
        "\n",
        "\n"
      ]
    },
    {
      "cell_type": "markdown",
      "metadata": {
        "id": "E69g4ROHJVG5",
        "colab_type": "text"
      },
      "source": [
        "O trabalho aborda sobre das vantagens de se medir o lixo eletrônico, apresentando dados de reciclagem de alguns países e os pontos positivos de se reciclar o lixo eletrônico e como isso contribui com os Objetivos de Desenvolvimento Sustentável (ODS) 12 apresentados pela ONU 2030.\n",
        "\n",
        "Cada equipamento elétrico e eletrônico tem um perfil de vida útil específico, ou seja, o produto é usado por um determinado período até que pare de funcionar, esse período é chamado de tempo de vida. E quando esse tempo de vida chega ao fim e o equipamento não é reciclado ou reutilizado, ele é descartado. É a partir desse momento que se torna lixo eletrônico, também chamado de e-lixo.\n",
        "\n",
        "Dessa forma, com uma quantidade crescente de lixo eletrônico e os graves impactos na saúde e no meio ambiente, existe o sub-indicador sobre o lixo eletrônico que é a razão entre o total de e-lixo reciclado e o total de e-lixo gerado. Com esses dados é possível contribuir com a ODS 12 da ONU 2030 que propõe assegurar padrões de produção e consumo sustentável. Portanto, para enfrentar esses desafios, foi criado a Parceria Global de Estatísticas de Lixo Eletrônico (*Global E-waste Statistics Partnership*), seu objetivo é coletar informações dos países e criar um banco de dados sobre o e-lixo para monitorar seu desenvolvimento ao longo do tempo. \n"
      ]
    },
    {
      "cell_type": "markdown",
      "metadata": {
        "id": "2DqYOxMNKz4u",
        "colab_type": "text"
      },
      "source": [
        "Os dados abaixo mostram a taxa de reciclagem de lixo eletrônico de alguns países de acordo com o Portal de Dados Abertos da União Europeia (*EU Open Data Portal*):"
      ]
    },
    {
      "cell_type": "code",
      "metadata": {
        "id": "DMzs3IC4KGFB",
        "colab_type": "code",
        "colab": {}
      },
      "source": [
        "#importando a biblioteca Pandas\n",
        "import pandas as pd\n",
        "#informando e imprimindo os dados\n",
        "dados = pd.read_csv('https://raw.githubusercontent.com/Line04/Projeto_Grupo-7/master/dados_tr.csv')\n",
        "dados"
      ],
      "execution_count": null,
      "outputs": []
    },
    {
      "cell_type": "markdown",
      "metadata": {
        "id": "qUA3IT5GX_XX",
        "colab_type": "text"
      },
      "source": [
        "Analisando outros dados, a tabela a seguir mostra os dados de lixo eletrônico produzido e coletado pelos 14 países da América do Sul no ano de 2016:"
      ]
    },
    {
      "cell_type": "code",
      "metadata": {
        "id": "B6WJqd6nE0MP",
        "colab_type": "code",
        "colab": {}
      },
      "source": [
        "#O DataFrame abaixo, exibe os dados de Lixo Eletrônico Produzido e Coletado pelos 14 países da América do Sul no Ano de 2016\n",
        "\n",
        "#importando a biblioteca pandas\n",
        "import pandas as pd\n",
        "\n",
        "#dataframe\n",
        "paises = {'País' : ['Brasil', 'Bolívia', 'Suriname', 'Guiana', 'Venezuela', 'Colômbia', 'Equador', 'Peru', 'Bolivia', 'Paraguai', 'Chile', 'Argentina', 'Uruguai', 'Guiana Francesa'],\n",
        "          'Lixo Eletrônico Gerado (kT)' : [1534, 36, 5.4, 4.7, 254, 275, 90, 182, 36, 44, 159, 368, 37, 'Não divulgado'],\n",
        "          'Taxa de Coleta de Lixo (%)' : [0, 0, 0, 0, 0, 0, 0, 0, 0, 0, 0.5, 3.3, 0, 'Não divulgado']}\n",
        "coleta_lixo = pd.DataFrame(paises)\n",
        "coleta_lixo"
      ],
      "execution_count": null,
      "outputs": []
    },
    {
      "cell_type": "markdown",
      "metadata": {
        "id": "CJgLhRSRagPb",
        "colab_type": "text"
      },
      "source": [
        "O gráfico abaixo apresenta esses valores, com isso concluí-se que, em 2016, o Brasil é o país com o maior índice de produção de lixo. E apenas dois países fazem a coleta do lixo eletrônico que são a Argentina e o Chile:"
      ]
    },
    {
      "cell_type": "code",
      "metadata": {
        "id": "Hkhu_LEpenBN",
        "colab_type": "code",
        "colab": {}
      },
      "source": [
        "# Gráficos representando o indicador de taxa de reciclagem do e-lixo é expresso em porcentagem (%)\n",
        "# O trabalho aborda o ODS 12 apresentado pela ONU 2030.\n",
        "\n",
        "#Bibliotecas utilizadas. \n",
        "import numpy as np\n",
        "import matplotlib.pyplot as plt\n",
        " \n",
        "#Largura da barra.\n",
        "barWidth = 0.4\n",
        "\n",
        "#Redimensiona a figura do gráfico\n",
        "plt.subplots(figsize=(15,6))\n",
        "\n",
        "#dados das colunas do dataframe\n",
        "paises = ['Brasil', 'Bolívia', 'Suriname', 'Guiana', 'Venezuela', 'Colômbia', 'Equador', 'Peru',\n",
        "          'Bolivia', 'Paraguai', 'Chile', 'Argentina', 'Uruguai', 'Guiana Francesa']\n",
        "taxas = [0, 0, 0, 0, 0, 0, 0, 0, 0, 0, 0.5, 3.3, 0]\n",
        "lixo = [1534, 36, 5.4, 4.7, 254, 275, 90, 182, 36, 44, 159, 368, 37]\n",
        "\n",
        "# Definição da posição da barra no eixo X.\n",
        "r1 = np.arange(len(taxas))\n",
        "r2 = [x + barWidth for x in r1]\n",
        " \n",
        "#Organização visual para cada barra do gráfico\n",
        "plt.bar(r1, taxas, color='#a3fccf', width=barWidth, edgecolor='black', label='Taxa de coleta de lixo(%)')\n",
        "plt.bar(r2, lixo, color='#2d7f9e', width=barWidth, edgecolor='black', label='Lixo eletônico gerado(kT)')\n",
        "\n",
        "#Adicionando os nomes aos eixos e título do gráfico\n",
        "plt.title(\"Dados de produção e taxa de coleta de lixo eletrônico\", loc=\"center\", fontsize=14)\n",
        "plt.xlabel(\"Países\", fontsize=14)\n",
        "plt.ylabel(\"Valores\", fontsize=14)\n",
        "\n",
        "plt.xticks([r + barWidth for r in range(len(taxas))], paises)\n",
        "\n",
        "plt.legend()\n",
        "plt.show()\n",
        "\n",
        "print('Autor: Felipe Marcelo Aquino da Costa')\n"
      ],
      "execution_count": null,
      "outputs": []
    },
    {
      "cell_type": "markdown",
      "metadata": {
        "id": "SCSNpUfDKNv-",
        "colab_type": "text"
      },
      "source": [
        "A coleta de dados sobre o lixo eletrônico ajuda a criar um histórico ao longo do tempo sobre esses equipamentos, definir metas e identificar as melhores práticas em políticas públicas, bem como contribuir para minimizar a geração do e-lixo, impedindo o descarte ilegal e impulsionar a reciclagem.\n"
      ]
    },
    {
      "cell_type": "markdown",
      "metadata": {
        "id": "dCCiedaNKUnD",
        "colab_type": "text"
      },
      "source": [
        "**Referências**\n",
        "\n",
        "www.globalewaste.org. \n",
        "\n",
        "http://www.agenda2030.org.br/ods/12/\n",
        "\n",
        "https://cetic.br/media/docs/publicacoes/6/20191217174403/panorama-setorial-xi-4-lixo-eletronico-atualizado.pdf\n",
        "\n",
        "https://data.europa.eu/euodp/en/data/dataset/fQcYeAbIjbKpTGA48S8Wog\n"
      ]
    }
  ]
}