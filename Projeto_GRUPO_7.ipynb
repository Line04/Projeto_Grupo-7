{
  "nbformat": 4,
  "nbformat_minor": 0,
  "metadata": {
    "colab": {
      "name": "Projeto_GRUPO-7.ipynb",
      "provenance": [],
      "toc_visible": true,
      "authorship_tag": "ABX9TyPWkXT7ndLNm6MTW6nDSkBC",
      "include_colab_link": true
    },
    "kernelspec": {
      "name": "python3",
      "display_name": "Python 3"
    }
  },
  "cells": [
    {
      "cell_type": "markdown",
      "metadata": {
        "id": "view-in-github",
        "colab_type": "text"
      },
      "source": [
        "<a href=\"https://colab.research.google.com/github/Line04/Projeto_Grupo-7/blob/master/Projeto_GRUPO_7.ipynb\" target=\"_parent\"><img src=\"https://colab.research.google.com/assets/colab-badge.svg\" alt=\"Open In Colab\"/></a>"
      ]
    },
    {
      "cell_type": "markdown",
      "metadata": {
        "id": "_tYRkG3EI4Uw",
        "colab_type": "text"
      },
      "source": [
        "# **Abordagem sobre a taxa de reciclagem do lixo eletrônico**\n",
        "\n",
        "\n",
        "---\n",
        "\n"
      ]
    },
    {
      "cell_type": "markdown",
      "metadata": {
        "id": "E69g4ROHJVG5",
        "colab_type": "text"
      },
      "source": [
        "O trabalho aborda sobre das vantagens de se medir o lixo eletrônico, apresentando dados de reciclagem de alguns países e os pontos positivos de se reciclar o lixo eletrônico e como isso contribui com os Objetivos de Desenvolvimento Sustentável (ODS) 12 apresentados pela ONU 2030.\n",
        "\n",
        "Cada equipamento elétrico e eletrônico tem um perfil de vida útil específico, ou seja, o produto é usado por um determinado período até que pare de funcionar, esse período é chamado de tempo de vida. E quando esse tempo de vida chega ao fim e o equipamento não é reciclado ou reutilizado, ele é descartado. É a partir desse momento que se torna lixo eletrônico, também chamado de e-lixo.\n",
        "\n",
        "Dessa forma, com uma quantidade crescente de lixo eletrônico e os graves impactos na saúde e no meio ambiente, existe o sub-indicador sobre o lixo eletrônico que é a razão entre o total de e-lixo reciclado e o total de e-lixo gerado. Com esses dados é possível contribuir com a ODS 12 da ONU 2030 que propõe assegurar padrões de produção e consumo sustentável. Portanto, para enfrentar esses desafios, foi criado a Parceria Global de Estatísticas de Lixo Eletrônico (*Global E-waste Statistics Partnership*), seu objetivo é coletar informações dos países e criar um banco de dados sobre o e-lixo para monitorar seu desenvolvimento ao longo do tempo. \n"
      ]
    },
    {
      "cell_type": "markdown",
      "metadata": {
        "id": "2DqYOxMNKz4u",
        "colab_type": "text"
      },
      "source": [
        "Os dados abaixo mostram a Taxa de reciclagem de lixo eletrônico de alguns países de acordo com o Portal de Dados Abertos da União Europeia (*EU Open Data Portal*):"
      ]
    },
    {
      "cell_type": "code",
      "metadata": {
        "id": "DMzs3IC4KGFB",
        "colab_type": "code",
        "colab": {
          "base_uri": "https://localhost:8080/",
          "height": 629
        },
        "outputId": "34fa3abd-309e-4f1a-b58c-528e1e01b282"
      },
      "source": [
        "#importando a biblioteca Panda\n",
        "import pandas as pd\n",
        "#Informando o arquivo\n",
        "dados = 'dados.tsv'\n",
        "#informando e imprimindo os dados\n",
        "dados = pd.read_csv('dados.tsv')\n",
        "print (dados)"
      ],
      "execution_count": 3,
      "outputs": [
        {
          "output_type": "stream",
          "text": [
            "   wst_oper  ... geo\\time\\t2008 \\t2009 \\t2010 \\t2011 \\t2012 \\t2013 \\t2014 \\t2015 \\t2016 \\t2017 \n",
            "0    RCY_RT  ...  AT\\t46 \\t36.1 \\t35.7 \\t37.1 \\t38.2 \\t37.6 \\t39...                            \n",
            "1    RCY_RT  ...  BE\\t28.3 s\\t30.8 s\\t30.4 \\t31.9 \\t32 \\t31.7 \\t...                            \n",
            "2    RCY_RT  ...  BG\\t: \\t: \\t40.8 d\\t49.4 d\\t62.4 \\t60.2 \\t68.3...                            \n",
            "3    RCY_RT  ...  CY\\t: \\t10.9 s\\t11.5 e\\t11.5 de\\t12.2 d\\t12.1 ...                            \n",
            "4    RCY_RT  ...  CZ\\t: \\t: \\t22.7 \\t26 \\t27.1 \\t28.5 \\t29.3 \\t3...                            \n",
            "5    RCY_RT  ...  DE\\t: \\t38.1 \\t37.8 \\t34.4 \\t34.8 d\\t35.6 d\\t3...                            \n",
            "6    RCY_RT  ...  DK\\t: \\t39 \\t41 \\t50.1 \\t46.5 \\t37.6 \\t42.3 \\t...                            \n",
            "7    RCY_RT  ...  EE\\t: \\t22.4 \\t30.3 \\t36.9 \\t35.9 \\t27.8 \\t30....                            \n",
            "8    RCY_RT  ...  EL\\t21.6 \\t29 \\t19.4 \\t19 d\\t18.6 de\\t22.1 de\\...                            \n",
            "9    RCY_RT  ...  ES\\t: \\t12.6 s\\t14.7 \\t16.7 \\t19 \\t26.1 \\t26.2...                            \n",
            "10   RCY_RT  ...  EU27_2020\\t: \\t: \\t27.9 s\\t29.5 s\\t30 s\\t30.9 ...                            \n",
            "11   RCY_RT  ...  EU28\\t: \\t: \\t27.8 s\\t28.7 s\\t28.8 s\\t29.6 s\\t...                            \n",
            "12   RCY_RT  ...  FI\\t37.9 \\t29.9 \\t28.7 \\t31 \\t32.8 \\t36.3 \\t42...                            \n",
            "13   RCY_RT  ...  FR\\t: \\t19.2 \\t21.8 \\t22.6 \\t22.6 \\t23.6 \\t26....                            \n",
            "14   RCY_RT  ...  HR\\t: \\t: \\t: \\t: \\t: \\t: \\t35.7 \\t58.3 \\t89.2...                            \n",
            "15   RCY_RT  ...  HU\\t28.3 \\t29.5 \\t26 \\t25.3 \\t30.8 \\t40 \\t47.7...                            \n",
            "16   RCY_RT  ...  IE\\t: \\t: \\t30.9 \\t32.5 \\t36.1 \\t38.6 \\t43.1 \\...                            \n",
            "17   RCY_RT  ...  IS\\t: \\t: \\t: \\t: \\t25.9 \\t23 \\t34 \\t46.7 \\t41...                            \n",
            "18   RCY_RT  ...  IT\\t: \\t: \\t27.8 d\\t29.8 d\\t27.7 d\\t26.3 d\\t27...                            \n",
            "19   RCY_RT  ...  LI\\t: \\t: \\t: \\t: \\t: \\t: \\t117.8 d\\t127.1 d\\t...                            \n",
            "20   RCY_RT  ...  LT\\t15.2 \\t10.5 \\t16.6 \\t28.2 \\t41.1 \\t43.8 \\t...                            \n",
            "21   RCY_RT  ...  LU\\t36.6 s\\t38 \\t33 \\t30.6 \\t27.6 \\t29.3 \\t35....                            \n",
            "22   RCY_RT  ...  LV\\t: \\t: \\t14.5 \\t19.9 \\t26.5 \\t27.8 \\t26.4 \\...                            \n",
            "23   RCY_RT  ...  MT\\t: \\t12.1 \\t13.1 \\t9.7 \\t9.9 \\t11 \\t11.5 \\t...                            \n",
            "24   RCY_RT  ...  NL\\t22.5 s\\t22 s\\t27.8 s\\t33 s\\t33.2 s\\t31.3 s...                            \n",
            "25   RCY_RT  ...  NO\\t35.4 e\\t46.9 \\t45.3 \\t48.4 \\t46.4 \\t46.5 \\...                            \n",
            "26   RCY_RT  ...  PL\\t: \\t13.9 \\t17.7 \\t23.9 \\t30.4 \\t28.1 \\t27....                            \n",
            "27   RCY_RT  ...  PT\\t21.8 s\\t24 s\\t22.8 \\t30.5 \\t24.9 \\t32.3 \\t...                            \n",
            "28   RCY_RT  ...  RO\\t: \\t17 s\\t12 \\t10.3 \\t14.5 \\t21 \\t21.3 \\t2...                            \n",
            "29   RCY_RT  ...  SE\\t62.4 s\\t52.2 s\\t55.3 s\\t64.9 \\t62.6 \\t64.9...                            \n",
            "30   RCY_RT  ...  SI\\t: \\t17.6 \\t22 \\t26.4 \\t26.9 \\t16.7 \\t27.5 ...                            \n",
            "31   RCY_RT  ...  SK\\t31.8 \\t34.2 \\t34.9 \\t39.6 \\t42.6 \\t41.7 \\t...                            \n",
            "32   RCY_RT  ...  UK\\t: \\t: \\t26.9 ds\\t23.9 s\\t22.5 s\\t22.8 ds\\t...                            \n",
            "\n",
            "[33 rows x 3 columns]\n"
          ],
          "name": "stdout"
        }
      ]
    },
    {
      "cell_type": "markdown",
      "metadata": {
        "id": "kpB4JOdBPKV6",
        "colab_type": "text"
      },
      "source": [
        ""
      ]
    },
    {
      "cell_type": "markdown",
      "metadata": {
        "id": "SCSNpUfDKNv-",
        "colab_type": "text"
      },
      "source": [
        "A coleta de dados sobre o lixo eletrônico ajuda a criar um histórico ao longo do tempo sobre esses equipamentos, definir metas e identificar as melhores práticas em políticas públicas, bem como contribuir para minimizar a geração do e-lixo, impedindo o descarte ilegal e impulsionar a reciclagem.\n"
      ]
    },
    {
      "cell_type": "markdown",
      "metadata": {
        "id": "dCCiedaNKUnD",
        "colab_type": "text"
      },
      "source": [
        "**Referências**\n",
        "\n",
        "www.globalewaste.org. \n",
        "\n",
        "http://www.agenda2030.org.br/ods/12/\n",
        "\n",
        "https://cetic.br/media/docs/publicacoes/6/20191217174403/panorama-setorial-xi-4-lixo-eletronico-atualizado.pdf\n",
        "\n",
        "https://data.europa.eu/euodp/en/data/dataset/fQcYeAbIjbKpTGA48S8Wog\n"
      ]
    }
  ]
}