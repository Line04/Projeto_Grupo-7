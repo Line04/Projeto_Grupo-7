{
  "nbformat": 4,
  "nbformat_minor": 0,
  "metadata": {
    "colab": {
      "name": "Projeto_GRUPO-7.ipynb",
      "provenance": [],
      "collapsed_sections": [],
      "toc_visible": true,
      "include_colab_link": true
    },
    "kernelspec": {
      "name": "python3",
      "display_name": "Python 3"
    }
  },
  "cells": [
    {
      "cell_type": "markdown",
      "metadata": {
        "id": "view-in-github",
        "colab_type": "text"
      },
      "source": [
        "<a href=\"https://colab.research.google.com/github/Line04/Projeto_Grupo-7/blob/master/Projeto_GRUPO_7.ipynb\" target=\"_parent\"><img src=\"https://colab.research.google.com/assets/colab-badge.svg\" alt=\"Open In Colab\"/></a>"
      ]
    },
    {
      "cell_type": "markdown",
      "metadata": {
        "id": "Z-QVtX48opa1",
        "colab_type": "text"
      },
      "source": [
        "**INSTITUTO METRÓPOLE DIGITAL - IMD**\n",
        "\n",
        "CURSO DE EXTENSÃO: **INTRODUÇÃO A PROGRAMAÇÃO PYTHON**\n",
        "\n",
        "**PROJETO FINAL** \n",
        "\n",
        "ALUNOS:\n",
        "\n",
        "*   Fagner Felipe Dantas Domingos\n",
        "*   Antônio Felipe de Macedo Neto\n",
        "*   Felipe Aquino\n",
        "*   Jakeline C. da Silva\n",
        "\n",
        "\n",
        "---\n",
        "\n",
        "\n",
        "\n"
      ]
    },
    {
      "cell_type": "markdown",
      "metadata": {
        "id": "_tYRkG3EI4Uw",
        "colab_type": "text"
      },
      "source": [
        "# **TEMA: Abordagem sobre a taxa de reciclagem do lixo eletrônico**\n",
        "\n",
        "\n",
        "\n",
        "\n"
      ]
    },
    {
      "cell_type": "markdown",
      "metadata": {
        "id": "E69g4ROHJVG5",
        "colab_type": "text"
      },
      "source": [
        "O trabalho aborda sobre das vantagens de se medir o lixo eletrônico, apresentando dados de reciclagem de alguns países e os pontos positivos de se reciclar o lixo eletrônico e como isso contribui com os Objetivos de Desenvolvimento Sustentável (ODS) 12 apresentados pela ONU 2030.\n",
        "\n",
        "Cada equipamento elétrico e eletrônico tem um perfil de vida útil específico, ou seja, o produto é usado por um determinado período até que pare de funcionar, esse período é chamado de tempo de vida. E quando esse tempo de vida chega ao fim e o equipamento não é reciclado ou reutilizado, ele é descartado. É a partir desse momento que se torna lixo eletrônico, também chamado de e-lixo.\n",
        "\n",
        "Dessa forma, com uma quantidade crescente de lixo eletrônico e os graves impactos na saúde e no meio ambiente, existe o sub-indicador sobre o lixo eletrônico que é a razão entre o total de e-lixo reciclado e o total de e-lixo gerado. Com esses dados é possível contribuir com a ODS 12 da ONU 2030 que propõe assegurar padrões de produção e consumo sustentável. Portanto, para enfrentar esses desafios, foi criado a Parceria Global de Estatísticas de Lixo Eletrônico (*Global E-waste Statistics Partnership*), seu objetivo é coletar informações dos países e criar um banco de dados sobre o e-lixo para monitorar seu desenvolvimento ao longo do tempo. \n"
      ]
    },
    {
      "cell_type": "markdown",
      "metadata": {
        "id": "2DqYOxMNKz4u",
        "colab_type": "text"
      },
      "source": [
        "Os dados abaixo mostram a taxa de reciclagem de lixo eletrônico de alguns países em 2017 de acordo com o Portal de Dados Abertos da União Europeia (*EU Open Data Portal*):"
      ]
    },
    {
      "cell_type": "code",
      "metadata": {
        "id": "DMzs3IC4KGFB",
        "colab_type": "code",
        "colab": {}
      },
      "source": [
        "#importando a biblioteca Pandas\n",
        "import pandas as pd\n",
        "#informando e imprimindo os dados\n",
        "dados = pd.read_csv('https://raw.githubusercontent.com/Line04/Projeto_Grupo-7/master/dados_tr-2017.csv')\n",
        "dados"
      ],
      "execution_count": null,
      "outputs": []
    },
    {
      "cell_type": "markdown",
      "metadata": {
        "id": "qUA3IT5GX_XX",
        "colab_type": "text"
      },
      "source": [
        "O indicador de taxa de reciclagem do e-lixo é expresso em porcentagem (%).\n",
        "\n",
        "O gráfico a seguir mostra esse percentual no ano de 2017:"
      ]
    },
    {
      "cell_type": "code",
      "metadata": {
        "id": "5GB0NUSeYC0U",
        "colab_type": "code",
        "colab": {}
      },
      "source": [
        "#importando a biblioteca matplotlib e pandas\n",
        "import matplotlib.pyplot as plt \n",
        "import pandas as pd\n",
        "\n",
        "#buscando a base de dados\n",
        "dados = pd.read_csv('https://raw.githubusercontent.com/Line04/Projeto_Grupo-7/master/dados_tr-2017.csv')\n",
        "\n",
        "#busca as colunas presentes no arquivo csv\n",
        "x = dados['PAIS']\n",
        "y = dados['TAXA']\n",
        "\n",
        "#redimensiona a figura do gráfico\n",
        "plt.subplots(figsize=(90,87))\n",
        "#mostra o título do gráfico\n",
        "plt.title(\"Taxa de Reciclagem de Lixo Eletrônico (%)\", fontsize=55)\n",
        "#plota o gráfico em barras\n",
        "plt.rcParams['xtick.labelsize'] = 35\n",
        "plt.rcParams['ytick.labelsize'] = 35\n",
        "plt.bar(x,y)\n",
        "#mostra os rótulos de cada eixo, de acordo com os dados presentes nas colunas do arquivo\n",
        "plt.xlabel('País', fontsize=55)\n",
        "plt.ylabel('Taxa', fontsize=55)\n",
        "\n",
        "plt.show()\n",
        "\n"
      ],
      "execution_count": null,
      "outputs": []
    },
    {
      "cell_type": "markdown",
      "metadata": {
        "id": "SCSNpUfDKNv-",
        "colab_type": "text"
      },
      "source": [
        "A coleta de dados sobre o lixo eletrônico ajuda a criar um histórico ao longo do tempo sobre esses equipamentos, definir metas e identificar as melhores práticas em políticas públicas, bem como contribuir para minimizar a geração do e-lixo, impedindo o descarte ilegal e impulsionar a reciclagem.\n"
      ]
    },
    {
      "cell_type": "markdown",
      "metadata": {
        "id": "dCCiedaNKUnD",
        "colab_type": "text"
      },
      "source": [
        "**Referências**\n",
        "\n",
        "www.globalewaste.org. \n",
        "\n",
        "http://www.agenda2030.org.br/ods/12/\n",
        "\n",
        "https://cetic.br/media/docs/publicacoes/6/20191217174403/panorama-setorial-xi-4-lixo-eletronico-atualizado.pdf\n",
        "\n",
        "https://data.europa.eu/euodp/en/data/dataset/fQcYeAbIjbKpTGA48S8Wog\n"
      ]
    }
  ]
}
